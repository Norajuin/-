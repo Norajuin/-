{
  "nbformat": 4,
  "nbformat_minor": 0,
  "metadata": {
    "colab": {
      "provenance": [],
      "authorship_tag": "ABX9TyO6Y2y58rzTThIcD6WE5Wq5",
      "include_colab_link": true
    },
    "kernelspec": {
      "name": "python3",
      "display_name": "Python 3"
    },
    "language_info": {
      "name": "python"
    }
  },
  "cells": [
    {
      "cell_type": "markdown",
      "metadata": {
        "id": "view-in-github",
        "colab_type": "text"
      },
      "source": [
        "<a href=\"https://colab.research.google.com/github/Norajuin/-/blob/main/%ED%95%A8%EC%88%98_2023_03_20.ipynb\" target=\"_parent\"><img src=\"https://colab.research.google.com/assets/colab-badge.svg\" alt=\"Open In Colab\"/></a>"
      ]
    },
    {
      "cell_type": "code",
      "execution_count": null,
      "metadata": {
        "colab": {
          "base_uri": "https://localhost:8080/"
        },
        "id": "EgvlMxQjRcis",
        "outputId": "0f62d945-ddee-4664-ddc7-6ea4b162d399"
      },
      "outputs": [
        {
          "output_type": "stream",
          "name": "stdout",
          "text": [
            "(3, 1) (2, 1)\n"
          ]
        }
      ],
      "source": [
        "def sum(p,q):\n",
        "  c=p//q\n",
        "  d=p%q\n",
        "  return c,d\n",
        "\n",
        "a=sum(7,2)\n",
        "b=sum(9,4)\n",
        "print(a,b)"
      ]
    },
    {
      "cell_type": "code",
      "source": [
        "def sum(a):\n",
        "  s=0\n",
        "  for i in range(len(a)):\n",
        "    s+=a[i]\n",
        "  \n",
        "  return s\n",
        "\n",
        "b=sum([2,3,4])\n",
        "print(b)"
      ],
      "metadata": {
        "colab": {
          "base_uri": "https://localhost:8080/"
        },
        "id": "22KyKA_5Txob",
        "outputId": "ad5eac2f-a825-4964-f9b0-ec0d2159d5e5"
      },
      "execution_count": null,
      "outputs": [
        {
          "output_type": "stream",
          "name": "stdout",
          "text": [
            "9\n"
          ]
        }
      ]
    }
  ]
}